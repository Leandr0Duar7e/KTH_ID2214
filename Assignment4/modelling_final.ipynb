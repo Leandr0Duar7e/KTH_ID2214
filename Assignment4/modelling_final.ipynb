{
 "cells": [
  {
   "cell_type": "markdown",
   "metadata": {},
   "source": [
    "## Libraries"
   ]
  },
  {
   "cell_type": "code",
   "execution_count": 1,
   "metadata": {},
   "outputs": [],
   "source": [
    "from typing import Dict, Union\n",
    "import pandas as pd\n",
    "from sklearn.model_selection import train_test_split, PredefinedSplit, GridSearchCV\n",
    "from preprocessing import StatisticalPreprocessing, FromModelPreprocessing\n",
    "from sklearn.linear_model import LogisticRegression\n",
    "from sklearn.ensemble import RandomForestClassifier\n",
    "from sklearn.metrics import roc_auc_score, roc_curve, make_scorer\n",
    "from sklearn.base import BaseEstimator\n",
    "from sklearn.exceptions import ConvergenceWarning\n",
    "from tqdm.notebook import tqdm\n",
    "from warnings import filterwarnings\n",
    "import seaborn as sns\n",
    "import matplotlib.pyplot as plt\n",
    "import scipy.stats as st\n",
    "from sklearn.utils import resample\n",
    "import numpy as np\n",
    "\n",
    "filterwarnings(action=\"ignore\", category=ConvergenceWarning)\n",
    "sns.set_style(\"whitegrid\")\n",
    "sns.set_context(\"notebook\")"
   ]
  },
  {
   "cell_type": "code",
   "execution_count": 2,
   "metadata": {},
   "outputs": [],
   "source": [
    "transformers: Dict[str, Union[FromModelPreprocessing, StatisticalPreprocessing]] = {\n",
    "    \"from_model\": FromModelPreprocessing(),\n",
    "    \"statistical\": StatisticalPreprocessing(),\n",
    "}"
   ]
  },
  {
   "cell_type": "code",
   "execution_count": 3,
   "metadata": {},
   "outputs": [],
   "source": [
    "def transformation_configuration(model: BaseEstimator, train_set: pd.DataFrame, val_set: pd.DataFrame, max_features: int = 100):\n",
    "    results = {tr: [] for tr in transformers.keys()}\n",
    "\n",
    "    for name, transformer in tqdm(transformers.items(), desc=\"Evaluating number of features...\"):\n",
    "        pbar = tqdm(range(max_features), total=max_features)\n",
    "        if name == \"statistical\":\n",
    "            transformer.fit_transform(train_set, \"nbest\")\n",
    "        else:\n",
    "            transformer.fit_transform(train_set, model)\n",
    "\n",
    "        for i in pbar:\n",
    "            pbar.set_description(\"Fit training...\")\n",
    "            train_data = transformer.change_fitted_data(i+1)\n",
    "            X_train, y_train = train_data.drop(columns=[\"ACTIVE\"]), train_data[\"ACTIVE\"]\n",
    "\n",
    "            pbar.set_description(\"Transform val...\")\n",
    "            X_val, y_val = val_set.drop(columns=[\"ACTIVE\"]), val_set[\"ACTIVE\"]\n",
    "            X_val = transformer.transform(X_val)\n",
    "\n",
    "            pbar.set_description(\"Fitting and predicting...\")\n",
    "            model.fit(X_train, y_train)\n",
    "            y_pred = model.predict_proba(X_val)[:, 1]\n",
    "\n",
    "            results[name].append(roc_auc_score(y_val, y_pred))\n",
    "            pbar.set_description(\"Score added!\")\n",
    "    return results\n",
    "\n",
    "def plot_feature_auc(data: pd.DataFrame):\n",
    "    data[\"Number of features\"] = data.index + 1\n",
    "    data.columns = [\"Model importance\", \"Filtering\", \"Number of features\"]\n",
    "    data = data.melt(\"Number of features\")\n",
    "    data.columns = [\"Number of features\", \"Approach\", \"ROC AUC\"]\n",
    "\n",
    "\n",
    "    plt.figure(figsize=(20, 5))\n",
    "    sns.pointplot(data, x=\"Number of features\", y=\"ROC AUC\", hue=\"Approach\", markers=[\"o\", \"^\"])\n",
    "    plt.xlabel(\"Number of features\")\n",
    "    plt.ylabel(\"AUC ROC\")\n",
    "    plt.tick_params(\"x\", labelrotation=45)\n",
    "    plt.tight_layout()\n",
    "    plt.show()"
   ]
  },
  {
   "cell_type": "markdown",
   "metadata": {},
   "source": [
    "## Data"
   ]
  },
  {
   "cell_type": "code",
   "execution_count": 4,
   "metadata": {},
   "outputs": [],
   "source": [
    "full_train_set = pd.read_csv(\"./all_features.csv\").set_index(\"INDEX\")\n",
    "train_set: pd.DataFrame\n",
    "test_set: pd.DataFrame\n",
    "train_set, test_set = train_test_split(full_train_set, test_size=0.3, random_state=20241209)"
   ]
  },
  {
   "cell_type": "code",
   "execution_count": 5,
   "metadata": {},
   "outputs": [],
   "source": [
    "actual_train_set: pd.DataFrame\n",
    "val_set: pd.DataFrame\n",
    "actual_train_set, val_set = train_test_split(train_set, test_size=0.3, random_state=20241208)"
   ]
  },
  {
   "cell_type": "markdown",
   "metadata": {},
   "source": [
    "## Models"
   ]
  },
  {
   "cell_type": "markdown",
   "metadata": {},
   "source": [
    "### Logistic regression"
   ]
  },
  {
   "cell_type": "code",
   "execution_count": 48,
   "metadata": {},
   "outputs": [],
   "source": [
    "model = LogisticRegression(class_weight=\"balanced\")"
   ]
  },
  {
   "cell_type": "code",
   "execution_count": null,
   "metadata": {},
   "outputs": [
    {
     "data": {
      "application/vnd.jupyter.widget-view+json": {
       "model_id": "990c803283604436a5c061f7b65f2d5e",
       "version_major": 2,
       "version_minor": 0
      },
      "text/plain": [
       "Evaluating number of features...:   0%|          | 0/2 [00:00<?, ?it/s]"
      ]
     },
     "metadata": {},
     "output_type": "display_data"
    },
    {
     "data": {
      "application/vnd.jupyter.widget-view+json": {
       "model_id": "312adfef818d4fa6a8596b0058a389b3",
       "version_major": 2,
       "version_minor": 0
      },
      "text/plain": [
       "  0%|          | 0/127 [00:00<?, ?it/s]"
      ]
     },
     "metadata": {},
     "output_type": "display_data"
    },
    {
     "ename": "KeyboardInterrupt",
     "evalue": "",
     "output_type": "error",
     "traceback": [
      "\u001b[1;31m---------------------------------------------------------------------------\u001b[0m",
      "\u001b[1;31mKeyboardInterrupt\u001b[0m                         Traceback (most recent call last)",
      "Cell \u001b[1;32mIn[24], line 1\u001b[0m\n\u001b[1;32m----> 1\u001b[0m results \u001b[38;5;241m=\u001b[39m \u001b[43mtransformation_configuration\u001b[49m\u001b[43m(\u001b[49m\u001b[43mmodel\u001b[49m\u001b[43m,\u001b[49m\u001b[43m \u001b[49m\u001b[43mactual_train_set\u001b[49m\u001b[43m,\u001b[49m\u001b[43m \u001b[49m\u001b[43mval_set\u001b[49m\u001b[43m,\u001b[49m\u001b[43m \u001b[49m\u001b[38;5;241;43m127\u001b[39;49m\u001b[43m)\u001b[49m\n\u001b[0;32m      3\u001b[0m pd\u001b[38;5;241m.\u001b[39mDataFrame(results)\u001b[38;5;241m.\u001b[39mto_csv(\u001b[38;5;124m\"\u001b[39m\u001b[38;5;124m./logreg_best_feature_num.csv\u001b[39m\u001b[38;5;124m\"\u001b[39m)\n",
      "Cell \u001b[1;32mIn[3], line 9\u001b[0m, in \u001b[0;36mtransformation_configuration\u001b[1;34m(model, train_set, val_set, max_features)\u001b[0m\n\u001b[0;32m      7\u001b[0m     transformer\u001b[38;5;241m.\u001b[39mfit_transform(train_set, \u001b[38;5;124m\"\u001b[39m\u001b[38;5;124mnbest\u001b[39m\u001b[38;5;124m\"\u001b[39m)\n\u001b[0;32m      8\u001b[0m \u001b[38;5;28;01melse\u001b[39;00m:\n\u001b[1;32m----> 9\u001b[0m     \u001b[43mtransformer\u001b[49m\u001b[38;5;241;43m.\u001b[39;49m\u001b[43mfit_transform\u001b[49m\u001b[43m(\u001b[49m\u001b[43mtrain_set\u001b[49m\u001b[43m,\u001b[49m\u001b[43m \u001b[49m\u001b[43mmodel\u001b[49m\u001b[43m)\u001b[49m\n\u001b[0;32m     11\u001b[0m \u001b[38;5;28;01mfor\u001b[39;00m i \u001b[38;5;129;01min\u001b[39;00m pbar:\n\u001b[0;32m     12\u001b[0m     pbar\u001b[38;5;241m.\u001b[39mset_description(\u001b[38;5;124m\"\u001b[39m\u001b[38;5;124mFit training...\u001b[39m\u001b[38;5;124m\"\u001b[39m)\n",
      "File \u001b[1;32mc:\\Users\\stefa\\OneDrive\\Documents\\uni\\master's\\EIT\\KTH\\programming_for_data_science\\assignments\\Assignment4\\Stefano_approach\\preprocessing.py:364\u001b[0m, in \u001b[0;36mFromModelPreprocessing.fit_transform\u001b[1;34m(self, df, model, max_features, expand)\u001b[0m\n\u001b[0;32m    357\u001b[0m \u001b[38;5;28;01mdef\u001b[39;00m \u001b[38;5;21mfit_transform\u001b[39m(\n\u001b[0;32m    358\u001b[0m     \u001b[38;5;28mself\u001b[39m,\n\u001b[0;32m    359\u001b[0m     df: pd\u001b[38;5;241m.\u001b[39mDataFrame,\n\u001b[1;32m   (...)\u001b[0m\n\u001b[0;32m    362\u001b[0m     expand: \u001b[38;5;28mbool\u001b[39m \u001b[38;5;241m=\u001b[39m \u001b[38;5;28;01mFalse\u001b[39;00m,\n\u001b[0;32m    363\u001b[0m ) \u001b[38;5;241m-\u001b[39m\u001b[38;5;241m>\u001b[39m pd\u001b[38;5;241m.\u001b[39mDataFrame:\n\u001b[1;32m--> 364\u001b[0m     new_df \u001b[38;5;241m=\u001b[39m \u001b[38;5;28;43mself\u001b[39;49m\u001b[38;5;241;43m.\u001b[39;49m\u001b[43mbase_transform\u001b[49m\u001b[38;5;241;43m.\u001b[39;49m\u001b[43mfit_transform\u001b[49m\u001b[43m(\u001b[49m\u001b[43mdf\u001b[49m\u001b[43m,\u001b[49m\u001b[43m \u001b[49m\u001b[43mexpand\u001b[49m\u001b[43m)\u001b[49m\n\u001b[0;32m    365\u001b[0m     (\n\u001b[0;32m    366\u001b[0m         X,\n\u001b[0;32m    367\u001b[0m         y,\n\u001b[0;32m    368\u001b[0m     ) \u001b[38;5;241m=\u001b[39m split_features_target(new_df)\n\u001b[0;32m    370\u001b[0m     selector \u001b[38;5;241m=\u001b[39m SelectFromModel(model)\n",
      "File \u001b[1;32mc:\\Users\\stefa\\OneDrive\\Documents\\uni\\master's\\EIT\\KTH\\programming_for_data_science\\assignments\\Assignment4\\Stefano_approach\\preprocessing.py:188\u001b[0m, in \u001b[0;36mBasePreprocessing.fit_transform\u001b[1;34m(self, df, expand)\u001b[0m\n\u001b[0;32m    185\u001b[0m \u001b[38;5;28;01melse\u001b[39;00m:\n\u001b[0;32m    186\u001b[0m     new_df \u001b[38;5;241m=\u001b[39m df\u001b[38;5;241m.\u001b[39mcopy()\n\u001b[1;32m--> 188\u001b[0m new_df \u001b[38;5;241m=\u001b[39m \u001b[38;5;28;43mself\u001b[39;49m\u001b[38;5;241;43m.\u001b[39;49m\u001b[43m__fit_constant_remover\u001b[49m\u001b[43m(\u001b[49m\u001b[43mnew_df\u001b[49m\u001b[43m)\u001b[49m\n\u001b[0;32m    190\u001b[0m new_df \u001b[38;5;241m=\u001b[39m new_df\u001b[38;5;241m.\u001b[39mdrop_duplicates(keep\u001b[38;5;241m=\u001b[39m\u001b[38;5;124m\"\u001b[39m\u001b[38;5;124mfirst\u001b[39m\u001b[38;5;124m\"\u001b[39m)\n\u001b[0;32m    192\u001b[0m new_df \u001b[38;5;241m=\u001b[39m \u001b[38;5;28mself\u001b[39m\u001b[38;5;241m.\u001b[39m__fit_data_scaler(new_df)\n",
      "File \u001b[1;32mc:\\Users\\stefa\\OneDrive\\Documents\\uni\\master's\\EIT\\KTH\\programming_for_data_science\\assignments\\Assignment4\\Stefano_approach\\preprocessing.py:236\u001b[0m, in \u001b[0;36mBasePreprocessing.__fit_constant_remover\u001b[1;34m(self, df)\u001b[0m\n\u001b[0;32m    233\u001b[0m new_df \u001b[38;5;241m=\u001b[39m df\u001b[38;5;241m.\u001b[39mcopy()\n\u001b[0;32m    235\u001b[0m X, y \u001b[38;5;241m=\u001b[39m split_features_target(new_df)\n\u001b[1;32m--> 236\u001b[0m \u001b[38;5;28mself\u001b[39m\u001b[38;5;241m.\u001b[39mconstant_remover \u001b[38;5;241m=\u001b[39m \u001b[43mVarianceThreshold\u001b[49m\u001b[43m(\u001b[49m\u001b[43m)\u001b[49m\u001b[38;5;241;43m.\u001b[39;49m\u001b[43mfit\u001b[49m\u001b[43m(\u001b[49m\u001b[43mX\u001b[49m\u001b[43m,\u001b[49m\u001b[43m \u001b[49m\u001b[43my\u001b[49m\u001b[43m)\u001b[49m\n\u001b[0;32m    237\u001b[0m new_df: pd\u001b[38;5;241m.\u001b[39mDataFrame \u001b[38;5;241m=\u001b[39m new_df[\n\u001b[0;32m    238\u001b[0m     \u001b[38;5;28mlist\u001b[39m(\u001b[38;5;28mself\u001b[39m\u001b[38;5;241m.\u001b[39mconstant_remover\u001b[38;5;241m.\u001b[39mget_feature_names_out()) \u001b[38;5;241m+\u001b[39m [\u001b[38;5;124m\"\u001b[39m\u001b[38;5;124mACTIVE\u001b[39m\u001b[38;5;124m\"\u001b[39m]\n\u001b[0;32m    239\u001b[0m ]\n\u001b[0;32m    241\u001b[0m \u001b[38;5;28;01mreturn\u001b[39;00m new_df\n",
      "File \u001b[1;32mc:\\Python311\\Lib\\site-packages\\sklearn\\base.py:1473\u001b[0m, in \u001b[0;36m_fit_context.<locals>.decorator.<locals>.wrapper\u001b[1;34m(estimator, *args, **kwargs)\u001b[0m\n\u001b[0;32m   1466\u001b[0m     estimator\u001b[38;5;241m.\u001b[39m_validate_params()\n\u001b[0;32m   1468\u001b[0m \u001b[38;5;28;01mwith\u001b[39;00m config_context(\n\u001b[0;32m   1469\u001b[0m     skip_parameter_validation\u001b[38;5;241m=\u001b[39m(\n\u001b[0;32m   1470\u001b[0m         prefer_skip_nested_validation \u001b[38;5;129;01mor\u001b[39;00m global_skip_validation\n\u001b[0;32m   1471\u001b[0m     )\n\u001b[0;32m   1472\u001b[0m ):\n\u001b[1;32m-> 1473\u001b[0m     \u001b[38;5;28;01mreturn\u001b[39;00m \u001b[43mfit_method\u001b[49m\u001b[43m(\u001b[49m\u001b[43mestimator\u001b[49m\u001b[43m,\u001b[49m\u001b[43m \u001b[49m\u001b[38;5;241;43m*\u001b[39;49m\u001b[43margs\u001b[49m\u001b[43m,\u001b[49m\u001b[43m \u001b[49m\u001b[38;5;241;43m*\u001b[39;49m\u001b[38;5;241;43m*\u001b[39;49m\u001b[43mkwargs\u001b[49m\u001b[43m)\u001b[49m\n",
      "File \u001b[1;32mc:\\Python311\\Lib\\site-packages\\sklearn\\feature_selection\\_variance_threshold.py:114\u001b[0m, in \u001b[0;36mVarianceThreshold.fit\u001b[1;34m(self, X, y)\u001b[0m\n\u001b[0;32m    112\u001b[0m     \u001b[38;5;28mself\u001b[39m\u001b[38;5;241m.\u001b[39mvariances_ \u001b[38;5;241m=\u001b[39m np\u001b[38;5;241m.\u001b[39mnanvar(X, axis\u001b[38;5;241m=\u001b[39m\u001b[38;5;241m0\u001b[39m)\n\u001b[0;32m    113\u001b[0m     \u001b[38;5;28;01mif\u001b[39;00m \u001b[38;5;28mself\u001b[39m\u001b[38;5;241m.\u001b[39mthreshold \u001b[38;5;241m==\u001b[39m \u001b[38;5;241m0\u001b[39m:\n\u001b[1;32m--> 114\u001b[0m         peak_to_peaks \u001b[38;5;241m=\u001b[39m \u001b[43mnp\u001b[49m\u001b[38;5;241;43m.\u001b[39;49m\u001b[43mptp\u001b[49m\u001b[43m(\u001b[49m\u001b[43mX\u001b[49m\u001b[43m,\u001b[49m\u001b[43m \u001b[49m\u001b[43maxis\u001b[49m\u001b[38;5;241;43m=\u001b[39;49m\u001b[38;5;241;43m0\u001b[39;49m\u001b[43m)\u001b[49m\n\u001b[0;32m    116\u001b[0m \u001b[38;5;28;01mif\u001b[39;00m \u001b[38;5;28mself\u001b[39m\u001b[38;5;241m.\u001b[39mthreshold \u001b[38;5;241m==\u001b[39m \u001b[38;5;241m0\u001b[39m:\n\u001b[0;32m    117\u001b[0m     \u001b[38;5;66;03m# Use peak-to-peak to avoid numeric precision issues\u001b[39;00m\n\u001b[0;32m    118\u001b[0m     \u001b[38;5;66;03m# for constant features\u001b[39;00m\n\u001b[0;32m    119\u001b[0m     compare_arr \u001b[38;5;241m=\u001b[39m np\u001b[38;5;241m.\u001b[39marray([\u001b[38;5;28mself\u001b[39m\u001b[38;5;241m.\u001b[39mvariances_, peak_to_peaks])\n",
      "File \u001b[1;32mc:\\Python311\\Lib\\site-packages\\numpy\\core\\fromnumeric.py:2684\u001b[0m, in \u001b[0;36mptp\u001b[1;34m(a, axis, out, keepdims)\u001b[0m\n\u001b[0;32m   2682\u001b[0m     \u001b[38;5;28;01melse\u001b[39;00m:\n\u001b[0;32m   2683\u001b[0m         \u001b[38;5;28;01mreturn\u001b[39;00m ptp(axis\u001b[38;5;241m=\u001b[39maxis, out\u001b[38;5;241m=\u001b[39mout, \u001b[38;5;241m*\u001b[39m\u001b[38;5;241m*\u001b[39mkwargs)\n\u001b[1;32m-> 2684\u001b[0m \u001b[38;5;28;01mreturn\u001b[39;00m \u001b[43m_methods\u001b[49m\u001b[38;5;241;43m.\u001b[39;49m\u001b[43m_ptp\u001b[49m\u001b[43m(\u001b[49m\u001b[43ma\u001b[49m\u001b[43m,\u001b[49m\u001b[43m \u001b[49m\u001b[43maxis\u001b[49m\u001b[38;5;241;43m=\u001b[39;49m\u001b[43maxis\u001b[49m\u001b[43m,\u001b[49m\u001b[43m \u001b[49m\u001b[43mout\u001b[49m\u001b[38;5;241;43m=\u001b[39;49m\u001b[43mout\u001b[49m\u001b[43m,\u001b[49m\u001b[43m \u001b[49m\u001b[38;5;241;43m*\u001b[39;49m\u001b[38;5;241;43m*\u001b[39;49m\u001b[43mkwargs\u001b[49m\u001b[43m)\u001b[49m\n",
      "File \u001b[1;32mc:\\Python311\\Lib\\site-packages\\numpy\\core\\_methods.py:220\u001b[0m, in \u001b[0;36m_ptp\u001b[1;34m(a, axis, out, keepdims)\u001b[0m\n\u001b[0;32m    218\u001b[0m \u001b[38;5;28;01mdef\u001b[39;00m \u001b[38;5;21m_ptp\u001b[39m(a, axis\u001b[38;5;241m=\u001b[39m\u001b[38;5;28;01mNone\u001b[39;00m, out\u001b[38;5;241m=\u001b[39m\u001b[38;5;28;01mNone\u001b[39;00m, keepdims\u001b[38;5;241m=\u001b[39m\u001b[38;5;28;01mFalse\u001b[39;00m):\n\u001b[0;32m    219\u001b[0m     \u001b[38;5;28;01mreturn\u001b[39;00m um\u001b[38;5;241m.\u001b[39msubtract(\n\u001b[1;32m--> 220\u001b[0m         umr_maximum(a, axis, \u001b[38;5;28;01mNone\u001b[39;00m, out, keepdims),\n\u001b[0;32m    221\u001b[0m         umr_minimum(a, axis, \u001b[38;5;28;01mNone\u001b[39;00m, \u001b[38;5;28;01mNone\u001b[39;00m, keepdims),\n\u001b[0;32m    222\u001b[0m         out\n\u001b[0;32m    223\u001b[0m     )\n",
      "\u001b[1;31mKeyboardInterrupt\u001b[0m: "
     ]
    }
   ],
   "source": [
    "results = transformation_configuration(model, actual_train_set, val_set, 127)\n",
    "\n",
    "pd.DataFrame(results).to_csv(\"./logreg_best_feature_num.csv\")"
   ]
  },
  {
   "cell_type": "code",
   "execution_count": null,
   "metadata": {},
   "outputs": [
    {
     "data": {
      "image/png": "[encoded data removed]",
      "text/plain": [
       "<Figure size 2000x500 with 1 Axes>"
      ]
     },
     "metadata": {},
     "output_type": "display_data"
    }
   ],
   "source": [
    "data = pd.read_csv(\"./logreg_best_feature_num.csv\", index_col=0)\n",
    "\n",
    "plot_feature_auc(data)"
   ]
  },
  {
   "cell_type": "code",
   "execution_count": 49,
   "metadata": {},
   "outputs": [],
   "source": [
    "transform = FromModelPreprocessing()\n",
    "\n",
    "train_data = transform.fit_transform(actual_train_set, model, 70)\n",
    "X_train, y_train = train_data.drop(columns=[\"ACTIVE\"]), train_data[\"ACTIVE\"]\n",
    "\n",
    "X_val, y_val = transform.transform(val_set.drop(columns=[\"ACTIVE\"])), val_set[\"ACTIVE\"]"
   ]
  },
  {
   "cell_type": "code",
   "execution_count": 50,
   "metadata": {},
   "outputs": [
    {
     "data": {
      "text/plain": [
       "Index(['n_amides', 'log_p', 'n_secamines', 'n_acceptors', 'n_carboxacids',\n",
       "       'exact_weight', 'n_alihydroxyls', 'n_ethers', 'n_phenols', 'n_alkenes',\n",
       "       'z_ecfp_3', 'n_priamines', 'n_bonds', 'n_donors', 'n_rotbonds',\n",
       "       'n_oxos', 'n_heavyatoms', 'n_teramines', 'z_ecfp_61', 'n_arohydroxyls',\n",
       "       'z_ecfp_71', 'z_ecfp_31', 'z_ecfp_41', 'z_ecfp_18', 'z_ecfp_25',\n",
       "       'z_ecfp_76', 'z_ecfp_56', 'z_ecfp_46', 'z_ecfp_1', 'n_arorings',\n",
       "       'z_ecfp_68', 'z_ecfp_59', 'n_sulfoanamids', 'z_ecfp_5', 'z_ecfp_58',\n",
       "       'z_ecfp_0', 'z_ecfp_60', 'z_ecfp_19', 'z_ecfp_74', 'z_ecfp_66',\n",
       "       'z_ecfp_96', 'z_ecfp_78', 'z_ecfp_77', 'z_ecfp_4', 'z_ecfp_29',\n",
       "       'z_ecfp_27', 'z_ecfp_80', 'z_ecfp_13', 'z_ecfp_86', 'n_atoms',\n",
       "       'z_ecfp_8', 'z_ecfp_24', 'n_anilines', 'z_ecfp_53', 'z_ecfp_22',\n",
       "       'z_ecfp_37', 'z_ecfp_73', 'z_ecfp_7', 'z_ecfp_2', 'z_ecfp_55',\n",
       "       'z_ecfp_65', 'z_ecfp_26', 'z_ecfp_47', 'z_ecfp_75', 'z_ecfp_36',\n",
       "       'z_ecfp_35', 'z_ecfp_6', 'z_ecfp_40', 'z_ecfp_16', 'z_ecfp_52'],\n",
       "      dtype='object')"
      ]
     },
     "execution_count": 50,
     "metadata": {},
     "output_type": "execute_result"
    }
   ],
   "source": [
    "X_train.columns"
   ]
  },
  {
   "cell_type": "code",
   "execution_count": 24,
   "metadata": {},
   "outputs": [
    {
     "data": {
      "application/vnd.jupyter.widget-view+json": {
       "model_id": "5b77668ff3c44f3f86997975fb44e7ea",
       "version_major": 2,
       "version_minor": 0
      },
      "text/plain": [
       "  0%|          | 0/100 [00:00<?, ?it/s]"
      ]
     },
     "metadata": {},
     "output_type": "display_data"
    },
    {
     "name": "stdout",
     "output_type": "stream",
     "text": [
      "Mean AUC: 0.8209440952874023\n",
      "95% Confidence Interval: (0.819853399720052, 0.8220347908547526)\n"
     ]
    }
   ],
   "source": [
    "model.fit(X_train, y_train)\n",
    "y_pred = model.predict_proba(X_val)[:, 1]\n",
    "\n",
    "n_iterations = 100\n",
    "auc_scores = []\n",
    "\n",
    "for i in tqdm(range(n_iterations)):\n",
    "    # Resample the test set with replacement\n",
    "    indices = resample(range(len(y_val)), replace=True)\n",
    "    y_test_resampled = y_val.iloc[indices]\n",
    "    y_pred_resampled = y_pred[indices]\n",
    "    \n",
    "    # Compute AUC for the resampled set\n",
    "    auc_scores.append(roc_auc_score(y_test_resampled, y_pred_resampled))\n",
    "\n",
    "# Calculate statistics\n",
    "mean_auc = np.mean(auc_scores)\n",
    "confidence_interval = st.t.interval(0.95, len(auc_scores)-1, loc=mean_auc, scale=st.sem(auc_scores))\n",
    "\n",
    "print(f\"Mean AUC: {mean_auc}\")\n",
    "print(f\"95% Confidence Interval: {confidence_interval}\")"
   ]
  },
  {
   "cell_type": "markdown",
   "metadata": {},
   "source": [
    "Mean AUC: 0.8188362203321667\n",
    "\n",
    "95% Confidence Interval: (0.8184937570772494, 0.8191786835870841)"
   ]
  },
  {
   "cell_type": "code",
   "execution_count": 25,
   "metadata": {},
   "outputs": [],
   "source": [
    "df = pd.DataFrame()\n",
    "df[\"y_val\"] = y_val\n",
    "df[\"y_pred\"] = y_pred\n",
    "df.to_csv(\"./logreg_val_pred.csv\")"
   ]
  },
  {
   "cell_type": "markdown",
   "metadata": {},
   "source": [
    "### Random forests"
   ]
  },
  {
   "cell_type": "code",
   "execution_count": 35,
   "metadata": {},
   "outputs": [],
   "source": [
    "model = RandomForestClassifier(criterion=\"entropy\", n_jobs=-1, class_weight=\"balanced\", oob_score=roc_auc_score)"
   ]
  },
  {
   "cell_type": "code",
   "execution_count": 36,
   "metadata": {},
   "outputs": [
    {
     "data": {
      "application/vnd.jupyter.widget-view+json": {
       "model_id": "c5eb97e113134dadbbbdaacda1803fea",
       "version_major": 2,
       "version_minor": 0
      },
      "text/plain": [
       "Evaluating number of features...:   0%|          | 0/2 [00:00<?, ?it/s]"
      ]
     },
     "metadata": {},
     "output_type": "display_data"
    },
    {
     "data": {
      "application/vnd.jupyter.widget-view+json": {
       "model_id": "8d73185759194825ae0ae75a8676f84d",
       "version_major": 2,
       "version_minor": 0
      },
      "text/plain": [
       "  0%|          | 0/127 [00:00<?, ?it/s]"
      ]
     },
     "metadata": {},
     "output_type": "display_data"
    },
    {
     "data": {
      "application/vnd.jupyter.widget-view+json": {
       "model_id": "a53206c079044007b2a3c651c00979e4",
       "version_major": 2,
       "version_minor": 0
      },
      "text/plain": [
       "  0%|          | 0/127 [00:00<?, ?it/s]"
      ]
     },
     "metadata": {},
     "output_type": "display_data"
    },
    {
     "name": "stderr",
     "output_type": "stream",
     "text": [
      "c:\\Python311\\Lib\\site-packages\\sklearn\\feature_selection\\_univariate_selection.py:776: UserWarning: k=101889 is greater than n_features=127. All the features will be returned.\n",
      "  warnings.warn(\n"
     ]
    }
   ],
   "source": [
    "results = transformation_configuration(model, actual_train_set, val_set, 127)\n",
    "\n",
    "pd.DataFrame(results).to_csv(\"./randfor_best_feature_num.csv\")"
   ]
  },
  {
   "cell_type": "code",
   "execution_count": 39,
   "metadata": {},
   "outputs": [
    {
     "data": {
      "image/png": "[encoded data removed]",
      "text/plain": [
       "<Figure size 2000x500 with 1 Axes>"
      ]
     },
     "metadata": {},
     "output_type": "display_data"
    }
   ],
   "source": [
    "data = pd.read_csv(\"./randfor_best_feature_num.csv\", index_col=0)\n",
    "\n",
    "plot_feature_auc(data)"
   ]
  },
  {
   "cell_type": "code",
   "execution_count": 10,
   "metadata": {},
   "outputs": [
    {
     "name": "stderr",
     "output_type": "stream",
     "text": [
      "c:\\Python311\\Lib\\site-packages\\sklearn\\feature_selection\\_univariate_selection.py:776: UserWarning: k=101889 is greater than n_features=127. All the features will be returned.\n",
      "  warnings.warn(\n"
     ]
    }
   ],
   "source": [
    "transform = StatisticalPreprocessing()\n",
    "\n",
    "train_data = transform.fit_transform(actual_train_set, \"nbest\", 62)\n",
    "X_train, y_train = train_data.drop(columns=[\"ACTIVE\"]), train_data[\"ACTIVE\"]\n",
    "\n",
    "X_val, y_val = transform.transform(val_set.drop(columns=[\"ACTIVE\"])), val_set[\"ACTIVE\"]"
   ]
  },
  {
   "cell_type": "code",
   "execution_count": 85,
   "metadata": {},
   "outputs": [
    {
     "data": {
      "text/plain": [
       "Index(['TPSA', 'n_secamines', 'exact_weight', 'n_arorings', 'n_donors',\n",
       "       'n_amides', 'n_ethers', 'z_ecfp_61', 'log_p', 'n_rotbonds',\n",
       "       'n_anilines', 'n_teramines', 'z_ecfp_3', 'n_acceptors',\n",
       "       'n_sulfoanamids', 'n_oxos', 'z_ecfp_1', 'n_heavyatoms', 'z_ecfp_56',\n",
       "       'n_atoms', 'n_chloros', 'z_ecfp_25', 'n_phenols', 'n_bonds',\n",
       "       'z_ecfp_66', 'z_ecfp_18', 'z_ecfp_85', 'z_ecfp_40', 'n_alkenes',\n",
       "       'z_ecfp_46', 'z_ecfp_7', 'z_ecfp_64', 'z_ecfp_71', 'n_halogens',\n",
       "       'z_ecfp_59', 'z_ecfp_60', 'z_ecfp_93', 'z_ecfp_48', 'z_ecfp_55',\n",
       "       'z_ecfp_99', 'z_ecfp_8', 'z_ecfp_0', 'z_ecfp_74', 'z_ecfp_52',\n",
       "       'z_ecfp_29', 'z_ecfp_82', 'z_ecfp_67', 'z_ecfp_65', 'z_ecfp_44',\n",
       "       'z_ecfp_6', 'z_ecfp_26', 'n_priamines', 'z_ecfp_37', 'z_ecfp_53',\n",
       "       'z_ecfp_68', 'z_ecfp_22', 'n_nitriles', 'z_ecfp_4', 'z_ecfp_79',\n",
       "       'z_ecfp_58', 'z_ecfp_31', 'z_ecfp_13'],\n",
       "      dtype='object')"
      ]
     },
     "execution_count": 85,
     "metadata": {},
     "output_type": "execute_result"
    }
   ],
   "source": [
    "X_train.columns"
   ]
  },
  {
   "cell_type": "code",
   "execution_count": 86,
   "metadata": {},
   "outputs": [
    {
     "name": "stdout",
     "output_type": "stream",
     "text": [
      "Fitting 1 folds for each of 169 candidates, totalling 169 fits\n"
     ]
    },
    {
     "name": "stderr",
     "output_type": "stream",
     "text": [
      "c:\\Python311\\Lib\\site-packages\\sklearn\\ensemble\\_forest.py:615: UserWarning: Some inputs do not have OOB scores. This probably means too few trees were used to compute any reliable OOB estimates.\n",
      "  warn(\n"
     ]
    },
    {
     "name": "stdout",
     "output_type": "stream",
     "text": [
      "[CV 1/1] END ......max_depth=1, n_estimators=19;, score=0.713 total time=   0.9s\n",
      "[CV 1/1] END ......max_depth=1, n_estimators=26;, score=0.710 total time=   1.2s\n",
      "[CV 1/1] END ......max_depth=1, n_estimators=34;, score=0.730 total time=   1.3s\n",
      "[CV 1/1] END ......max_depth=1, n_estimators=44;, score=0.735 total time=   1.7s\n",
      "[CV 1/1] END ......max_depth=1, n_estimators=58;, score=0.732 total time=   2.2s\n",
      "[CV 1/1] END ......max_depth=1, n_estimators=76;, score=0.744 total time=   2.9s\n",
      "[CV 1/1] END .....max_depth=1, n_estimators=100;, score=0.734 total time=   3.6s\n",
      "[CV 1/1] END .....max_depth=1, n_estimators=130;, score=0.725 total time=   4.6s\n",
      "[CV 1/1] END .....max_depth=1, n_estimators=171;, score=0.749 total time=   6.2s\n",
      "[CV 1/1] END .....max_depth=1, n_estimators=223;, score=0.740 total time=   7.7s\n",
      "[CV 1/1] END .....max_depth=1, n_estimators=292;, score=0.744 total time=  10.4s\n",
      "[CV 1/1] END .....max_depth=1, n_estimators=383;, score=0.744 total time=  13.7s\n",
      "[CV 1/1] END .....max_depth=1, n_estimators=501;, score=0.746 total time=  18.7s\n"
     ]
    },
    {
     "name": "stderr",
     "output_type": "stream",
     "text": [
      "c:\\Python311\\Lib\\site-packages\\sklearn\\ensemble\\_forest.py:615: UserWarning: Some inputs do not have OOB scores. This probably means too few trees were used to compute any reliable OOB estimates.\n",
      "  warn(\n"
     ]
    },
    {
     "name": "stdout",
     "output_type": "stream",
     "text": [
      "[CV 1/1] END ......max_depth=2, n_estimators=19;, score=0.730 total time=   1.1s\n",
      "[CV 1/1] END ......max_depth=2, n_estimators=26;, score=0.750 total time=   1.8s\n",
      "[CV 1/1] END ......max_depth=2, n_estimators=34;, score=0.749 total time=   2.0s\n",
      "[CV 1/1] END ......max_depth=2, n_estimators=44;, score=0.760 total time=   2.5s\n",
      "[CV 1/1] END ......max_depth=2, n_estimators=58;, score=0.757 total time=   3.2s\n",
      "[CV 1/1] END ......max_depth=2, n_estimators=76;, score=0.761 total time=   4.0s\n",
      "[CV 1/1] END .....max_depth=2, n_estimators=100;, score=0.759 total time=   5.1s\n",
      "[CV 1/1] END .....max_depth=2, n_estimators=130;, score=0.762 total time=   6.8s\n",
      "[CV 1/1] END .....max_depth=2, n_estimators=171;, score=0.763 total time=   8.8s\n",
      "[CV 1/1] END .....max_depth=2, n_estimators=223;, score=0.761 total time=  11.6s\n",
      "[CV 1/1] END .....max_depth=2, n_estimators=292;, score=0.760 total time=  14.9s\n",
      "[CV 1/1] END .....max_depth=2, n_estimators=383;, score=0.763 total time=  17.7s\n",
      "[CV 1/1] END .....max_depth=2, n_estimators=501;, score=0.768 total time=  22.8s\n"
     ]
    },
    {
     "name": "stderr",
     "output_type": "stream",
     "text": [
      "c:\\Python311\\Lib\\site-packages\\sklearn\\ensemble\\_forest.py:615: UserWarning: Some inputs do not have OOB scores. This probably means too few trees were used to compute any reliable OOB estimates.\n",
      "  warn(\n"
     ]
    },
    {
     "name": "stdout",
     "output_type": "stream",
     "text": [
      "[CV 1/1] END ......max_depth=2, n_estimators=19;, score=0.742 total time=   1.2s\n"
     ]
    },
    {
     "name": "stderr",
     "output_type": "stream",
     "text": [
      "c:\\Python311\\Lib\\site-packages\\sklearn\\ensemble\\_forest.py:615: UserWarning: Some inputs do not have OOB scores. This probably means too few trees were used to compute any reliable OOB estimates.\n",
      "  warn(\n"
     ]
    },
    {
     "name": "stdout",
     "output_type": "stream",
     "text": [
      "[CV 1/1] END ......max_depth=2, n_estimators=26;, score=0.747 total time=   1.6s\n",
      "[CV 1/1] END ......max_depth=2, n_estimators=34;, score=0.743 total time=   2.4s\n",
      "[CV 1/1] END ......max_depth=2, n_estimators=44;, score=0.757 total time=   2.4s\n",
      "[CV 1/1] END ......max_depth=2, n_estimators=58;, score=0.749 total time=   3.0s\n",
      "[CV 1/1] END ......max_depth=2, n_estimators=76;, score=0.763 total time=   3.9s\n",
      "[CV 1/1] END .....max_depth=2, n_estimators=100;, score=0.759 total time=   5.1s\n",
      "[CV 1/1] END .....max_depth=2, n_estimators=130;, score=0.758 total time=   6.8s\n",
      "[CV 1/1] END .....max_depth=2, n_estimators=171;, score=0.760 total time=   8.9s\n",
      "[CV 1/1] END .....max_depth=2, n_estimators=223;, score=0.764 total time=  11.2s\n",
      "[CV 1/1] END .....max_depth=2, n_estimators=292;, score=0.762 total time=  14.8s\n",
      "[CV 1/1] END .....max_depth=2, n_estimators=383;, score=0.761 total time=  19.4s\n",
      "[CV 1/1] END .....max_depth=2, n_estimators=501;, score=0.762 total time=  24.7s\n"
     ]
    },
    {
     "name": "stderr",
     "output_type": "stream",
     "text": [
      "c:\\Python311\\Lib\\site-packages\\sklearn\\ensemble\\_forest.py:615: UserWarning: Some inputs do not have OOB scores. This probably means too few trees were used to compute any reliable OOB estimates.\n",
      "  warn(\n"
     ]
    },
    {
     "name": "stdout",
     "output_type": "stream",
     "text": [
      "[CV 1/1] END ......max_depth=3, n_estimators=19;, score=0.762 total time=   1.4s\n"
     ]
    },
    {
     "name": "stderr",
     "output_type": "stream",
     "text": [
      "c:\\Python311\\Lib\\site-packages\\sklearn\\ensemble\\_forest.py:615: UserWarning: Some inputs do not have OOB scores. This probably means too few trees were used to compute any reliable OOB estimates.\n",
      "  warn(\n"
     ]
    },
    {
     "name": "stdout",
     "output_type": "stream",
     "text": [
      "[CV 1/1] END ......max_depth=3, n_estimators=26;, score=0.766 total time=   1.9s\n",
      "[CV 1/1] END ......max_depth=3, n_estimators=34;, score=0.772 total time=   2.6s\n",
      "[CV 1/1] END ......max_depth=3, n_estimators=44;, score=0.771 total time=   2.9s\n",
      "[CV 1/1] END ......max_depth=3, n_estimators=58;, score=0.774 total time=   3.7s\n",
      "[CV 1/1] END ......max_depth=3, n_estimators=76;, score=0.771 total time=   5.1s\n",
      "[CV 1/1] END .....max_depth=3, n_estimators=100;, score=0.771 total time=   6.4s\n",
      "[CV 1/1] END .....max_depth=3, n_estimators=130;, score=0.776 total time=   8.5s\n",
      "[CV 1/1] END .....max_depth=3, n_estimators=171;, score=0.775 total time=  10.5s\n",
      "[CV 1/1] END .....max_depth=3, n_estimators=223;, score=0.775 total time=  13.8s\n",
      "[CV 1/1] END .....max_depth=3, n_estimators=292;, score=0.776 total time=  18.0s\n",
      "[CV 1/1] END .....max_depth=3, n_estimators=383;, score=0.777 total time=  24.1s\n",
      "[CV 1/1] END .....max_depth=3, n_estimators=501;, score=0.777 total time=  30.9s\n"
     ]
    },
    {
     "name": "stderr",
     "output_type": "stream",
     "text": [
      "c:\\Python311\\Lib\\site-packages\\sklearn\\ensemble\\_forest.py:615: UserWarning: Some inputs do not have OOB scores. This probably means too few trees were used to compute any reliable OOB estimates.\n",
      "  warn(\n"
     ]
    },
    {
     "name": "stdout",
     "output_type": "stream",
     "text": [
      "[CV 1/1] END ......max_depth=5, n_estimators=19;, score=0.791 total time=   2.0s\n"
     ]
    },
    {
     "name": "stderr",
     "output_type": "stream",
     "text": [
      "c:\\Python311\\Lib\\site-packages\\sklearn\\ensemble\\_forest.py:615: UserWarning: Some inputs do not have OOB scores. This probably means too few trees were used to compute any reliable OOB estimates.\n",
      "  warn(\n"
     ]
    },
    {
     "name": "stdout",
     "output_type": "stream",
     "text": [
      "[CV 1/1] END ......max_depth=5, n_estimators=26;, score=0.788 total time=   2.9s\n",
      "[CV 1/1] END ......max_depth=5, n_estimators=34;, score=0.791 total time=   3.5s\n",
      "[CV 1/1] END ......max_depth=5, n_estimators=44;, score=0.792 total time=   4.4s\n",
      "[CV 1/1] END ......max_depth=5, n_estimators=58;, score=0.792 total time=   5.9s\n",
      "[CV 1/1] END ......max_depth=5, n_estimators=76;, score=0.796 total time=   7.6s\n",
      "[CV 1/1] END .....max_depth=5, n_estimators=100;, score=0.798 total time=   9.3s\n",
      "[CV 1/1] END .....max_depth=5, n_estimators=130;, score=0.793 total time=  12.9s\n",
      "[CV 1/1] END .....max_depth=5, n_estimators=171;, score=0.797 total time=  16.4s\n",
      "[CV 1/1] END .....max_depth=5, n_estimators=223;, score=0.797 total time=  21.3s\n",
      "[CV 1/1] END .....max_depth=5, n_estimators=292;, score=0.797 total time=  28.1s\n",
      "[CV 1/1] END .....max_depth=5, n_estimators=383;, score=0.797 total time=  37.5s\n",
      "[CV 1/1] END .....max_depth=5, n_estimators=501;, score=0.797 total time=  47.7s\n"
     ]
    },
    {
     "name": "stderr",
     "output_type": "stream",
     "text": [
      "c:\\Python311\\Lib\\site-packages\\sklearn\\ensemble\\_forest.py:615: UserWarning: Some inputs do not have OOB scores. This probably means too few trees were used to compute any reliable OOB estimates.\n",
      "  warn(\n"
     ]
    },
    {
     "name": "stdout",
     "output_type": "stream",
     "text": [
      "[CV 1/1] END ......max_depth=6, n_estimators=19;, score=0.794 total time=   2.6s\n"
     ]
    },
    {
     "name": "stderr",
     "output_type": "stream",
     "text": [
      "c:\\Python311\\Lib\\site-packages\\sklearn\\ensemble\\_forest.py:615: UserWarning: Some inputs do not have OOB scores. This probably means too few trees were used to compute any reliable OOB estimates.\n",
      "  warn(\n"
     ]
    },
    {
     "name": "stdout",
     "output_type": "stream",
     "text": [
      "[CV 1/1] END ......max_depth=6, n_estimators=26;, score=0.796 total time=   3.5s\n",
      "[CV 1/1] END ......max_depth=6, n_estimators=34;, score=0.799 total time=   4.1s\n",
      "[CV 1/1] END ......max_depth=6, n_estimators=44;, score=0.796 total time=   5.4s\n",
      "[CV 1/1] END ......max_depth=6, n_estimators=58;, score=0.801 total time=   6.8s\n",
      "[CV 1/1] END ......max_depth=6, n_estimators=76;, score=0.799 total time=   8.7s\n",
      "[CV 1/1] END .....max_depth=6, n_estimators=100;, score=0.803 total time=  12.1s\n",
      "[CV 1/1] END .....max_depth=6, n_estimators=130;, score=0.805 total time=  14.7s\n",
      "[CV 1/1] END .....max_depth=6, n_estimators=171;, score=0.803 total time=  19.0s\n",
      "[CV 1/1] END .....max_depth=6, n_estimators=223;, score=0.805 total time=  24.9s\n",
      "[CV 1/1] END .....max_depth=6, n_estimators=292;, score=0.807 total time=  32.3s\n",
      "[CV 1/1] END .....max_depth=6, n_estimators=383;, score=0.808 total time=  43.1s\n",
      "[CV 1/1] END .....max_depth=6, n_estimators=501;, score=0.806 total time=  57.1s\n"
     ]
    },
    {
     "name": "stderr",
     "output_type": "stream",
     "text": [
      "c:\\Python311\\Lib\\site-packages\\sklearn\\ensemble\\_forest.py:615: UserWarning: Some inputs do not have OOB scores. This probably means too few trees were used to compute any reliable OOB estimates.\n",
      "  warn(\n"
     ]
    },
    {
     "name": "stdout",
     "output_type": "stream",
     "text": [
      "[CV 1/1] END ......max_depth=8, n_estimators=19;, score=0.805 total time=   3.2s\n",
      "[CV 1/1] END ......max_depth=8, n_estimators=26;, score=0.805 total time=   4.8s\n",
      "[CV 1/1] END ......max_depth=8, n_estimators=34;, score=0.811 total time=   4.9s\n",
      "[CV 1/1] END ......max_depth=8, n_estimators=44;, score=0.811 total time=   6.3s\n",
      "[CV 1/1] END ......max_depth=8, n_estimators=58;, score=0.815 total time=   8.7s\n",
      "[CV 1/1] END ......max_depth=8, n_estimators=76;, score=0.814 total time=  10.9s\n",
      "[CV 1/1] END .....max_depth=8, n_estimators=100;, score=0.819 total time=  14.5s\n",
      "[CV 1/1] END .....max_depth=8, n_estimators=130;, score=0.815 total time=  18.0s\n",
      "[CV 1/1] END .....max_depth=8, n_estimators=171;, score=0.817 total time=  24.9s\n",
      "[CV 1/1] END .....max_depth=8, n_estimators=223;, score=0.816 total time=  30.6s\n",
      "[CV 1/1] END .....max_depth=8, n_estimators=292;, score=0.819 total time=  39.9s\n",
      "[CV 1/1] END .....max_depth=8, n_estimators=383;, score=0.817 total time=  51.5s\n",
      "[CV 1/1] END .....max_depth=8, n_estimators=501;, score=0.817 total time= 1.1min\n"
     ]
    },
    {
     "name": "stderr",
     "output_type": "stream",
     "text": [
      "c:\\Python311\\Lib\\site-packages\\sklearn\\ensemble\\_forest.py:615: UserWarning: Some inputs do not have OOB scores. This probably means too few trees were used to compute any reliable OOB estimates.\n",
      "  warn(\n"
     ]
    },
    {
     "name": "stdout",
     "output_type": "stream",
     "text": [
      "[CV 1/1] END .....max_depth=11, n_estimators=19;, score=0.808 total time=   3.8s\n",
      "[CV 1/1] END .....max_depth=11, n_estimators=26;, score=0.803 total time=   5.4s\n",
      "[CV 1/1] END .....max_depth=11, n_estimators=34;, score=0.816 total time=   6.4s\n",
      "[CV 1/1] END .....max_depth=11, n_estimators=44;, score=0.819 total time=   7.9s\n",
      "[CV 1/1] END .....max_depth=11, n_estimators=58;, score=0.817 total time=  10.4s\n",
      "[CV 1/1] END .....max_depth=11, n_estimators=76;, score=0.822 total time=  14.0s\n",
      "[CV 1/1] END ....max_depth=11, n_estimators=100;, score=0.821 total time=  18.0s\n",
      "[CV 1/1] END ....max_depth=11, n_estimators=130;, score=0.825 total time=  23.0s\n",
      "[CV 1/1] END ....max_depth=11, n_estimators=171;, score=0.823 total time=  30.7s\n",
      "[CV 1/1] END ....max_depth=11, n_estimators=223;, score=0.824 total time=  38.5s\n",
      "[CV 1/1] END ....max_depth=11, n_estimators=292;, score=0.824 total time=  50.1s\n",
      "[CV 1/1] END ....max_depth=11, n_estimators=383;, score=0.825 total time= 1.1min\n",
      "[CV 1/1] END ....max_depth=11, n_estimators=501;, score=0.827 total time= 1.4min\n"
     ]
    },
    {
     "name": "stderr",
     "output_type": "stream",
     "text": [
      "c:\\Python311\\Lib\\site-packages\\sklearn\\ensemble\\_forest.py:615: UserWarning: Some inputs do not have OOB scores. This probably means too few trees were used to compute any reliable OOB estimates.\n",
      "  warn(\n"
     ]
    },
    {
     "name": "stdout",
     "output_type": "stream",
     "text": [
      "[CV 1/1] END .....max_depth=15, n_estimators=19;, score=0.795 total time=   4.4s\n",
      "[CV 1/1] END .....max_depth=15, n_estimators=26;, score=0.815 total time=   6.2s\n",
      "[CV 1/1] END .....max_depth=15, n_estimators=34;, score=0.814 total time=   7.9s\n",
      "[CV 1/1] END .....max_depth=15, n_estimators=44;, score=0.816 total time=   9.1s\n",
      "[CV 1/1] END .....max_depth=15, n_estimators=58;, score=0.821 total time=  12.0s\n",
      "[CV 1/1] END .....max_depth=15, n_estimators=76;, score=0.827 total time=  15.6s\n",
      "[CV 1/1] END ....max_depth=15, n_estimators=100;, score=0.827 total time=  19.5s\n",
      "[CV 1/1] END ....max_depth=15, n_estimators=130;, score=0.827 total time=  25.6s\n",
      "[CV 1/1] END ....max_depth=15, n_estimators=171;, score=0.828 total time=  33.6s\n",
      "[CV 1/1] END ....max_depth=15, n_estimators=223;, score=0.828 total time=  44.8s\n",
      "[CV 1/1] END ....max_depth=15, n_estimators=292;, score=0.831 total time= 1.0min\n",
      "[CV 1/1] END ....max_depth=15, n_estimators=383;, score=0.830 total time= 1.4min\n",
      "[CV 1/1] END ....max_depth=15, n_estimators=501;, score=0.832 total time= 1.7min\n"
     ]
    },
    {
     "name": "stderr",
     "output_type": "stream",
     "text": [
      "c:\\Python311\\Lib\\site-packages\\sklearn\\ensemble\\_forest.py:615: UserWarning: Some inputs do not have OOB scores. This probably means too few trees were used to compute any reliable OOB estimates.\n",
      "  warn(\n"
     ]
    },
    {
     "name": "stdout",
     "output_type": "stream",
     "text": [
      "[CV 1/1] END .....max_depth=21, n_estimators=19;, score=0.796 total time=   5.0s\n"
     ]
    },
    {
     "name": "stderr",
     "output_type": "stream",
     "text": [
      "c:\\Python311\\Lib\\site-packages\\sklearn\\ensemble\\_forest.py:615: UserWarning: Some inputs do not have OOB scores. This probably means too few trees were used to compute any reliable OOB estimates.\n",
      "  warn(\n"
     ]
    },
    {
     "name": "stdout",
     "output_type": "stream",
     "text": [
      "[CV 1/1] END .....max_depth=21, n_estimators=26;, score=0.803 total time=   6.8s\n",
      "[CV 1/1] END .....max_depth=21, n_estimators=34;, score=0.814 total time=   8.6s\n",
      "[CV 1/1] END .....max_depth=21, n_estimators=44;, score=0.813 total time=  10.6s\n",
      "[CV 1/1] END .....max_depth=21, n_estimators=58;, score=0.830 total time=  12.9s\n",
      "[CV 1/1] END .....max_depth=21, n_estimators=76;, score=0.829 total time=  18.3s\n",
      "[CV 1/1] END ....max_depth=21, n_estimators=100;, score=0.837 total time=  22.5s\n",
      "[CV 1/1] END ....max_depth=21, n_estimators=130;, score=0.840 total time=  28.8s\n",
      "[CV 1/1] END ....max_depth=21, n_estimators=171;, score=0.843 total time=  37.0s\n",
      "[CV 1/1] END ....max_depth=21, n_estimators=223;, score=0.838 total time=  47.4s\n",
      "[CV 1/1] END ....max_depth=21, n_estimators=292;, score=0.844 total time= 1.1min\n",
      "[CV 1/1] END ....max_depth=21, n_estimators=383;, score=0.846 total time= 1.4min\n",
      "[CV 1/1] END ....max_depth=21, n_estimators=501;, score=0.845 total time= 1.8min\n"
     ]
    },
    {
     "name": "stderr",
     "output_type": "stream",
     "text": [
      "c:\\Python311\\Lib\\site-packages\\sklearn\\ensemble\\_forest.py:615: UserWarning: Some inputs do not have OOB scores. This probably means too few trees were used to compute any reliable OOB estimates.\n",
      "  warn(\n"
     ]
    },
    {
     "name": "stdout",
     "output_type": "stream",
     "text": [
      "[CV 1/1] END .....max_depth=28, n_estimators=19;, score=0.777 total time=   5.0s\n",
      "[CV 1/1] END .....max_depth=28, n_estimators=26;, score=0.792 total time=   6.9s\n",
      "[CV 1/1] END .....max_depth=28, n_estimators=34;, score=0.809 total time=   7.5s\n",
      "[CV 1/1] END .....max_depth=28, n_estimators=44;, score=0.809 total time=  10.0s\n",
      "[CV 1/1] END .....max_depth=28, n_estimators=58;, score=0.824 total time=  12.9s\n",
      "[CV 1/1] END .....max_depth=28, n_estimators=76;, score=0.829 total time=  17.1s\n",
      "[CV 1/1] END ....max_depth=28, n_estimators=100;, score=0.839 total time=  22.6s\n",
      "[CV 1/1] END ....max_depth=28, n_estimators=130;, score=0.842 total time=  28.1s\n",
      "[CV 1/1] END ....max_depth=28, n_estimators=171;, score=0.850 total time=  36.5s\n",
      "[CV 1/1] END ....max_depth=28, n_estimators=223;, score=0.849 total time=  47.9s\n",
      "[CV 1/1] END ....max_depth=28, n_estimators=292;, score=0.853 total time=  59.2s\n",
      "[CV 1/1] END ....max_depth=28, n_estimators=383;, score=0.852 total time= 1.3min\n",
      "[CV 1/1] END ....max_depth=28, n_estimators=501;, score=0.855 total time= 1.7min\n"
     ]
    },
    {
     "name": "stderr",
     "output_type": "stream",
     "text": [
      "c:\\Python311\\Lib\\site-packages\\sklearn\\ensemble\\_forest.py:615: UserWarning: Some inputs do not have OOB scores. This probably means too few trees were used to compute any reliable OOB estimates.\n",
      "  warn(\n"
     ]
    },
    {
     "name": "stdout",
     "output_type": "stream",
     "text": [
      "[CV 1/1] END .....max_depth=37, n_estimators=19;, score=0.769 total time=   4.3s\n",
      "[CV 1/1] END .....max_depth=37, n_estimators=26;, score=0.787 total time=   6.3s\n",
      "[CV 1/1] END .....max_depth=37, n_estimators=34;, score=0.798 total time=   7.1s\n",
      "[CV 1/1] END .....max_depth=37, n_estimators=44;, score=0.804 total time=   9.6s\n",
      "[CV 1/1] END .....max_depth=37, n_estimators=58;, score=0.814 total time=  12.2s\n",
      "[CV 1/1] END .....max_depth=37, n_estimators=76;, score=0.830 total time=  15.9s\n",
      "[CV 1/1] END ....max_depth=37, n_estimators=100;, score=0.841 total time=  20.4s\n",
      "[CV 1/1] END ....max_depth=37, n_estimators=130;, score=0.837 total time=  26.7s\n",
      "[CV 1/1] END ....max_depth=37, n_estimators=171;, score=0.842 total time=  35.3s\n",
      "[CV 1/1] END ....max_depth=37, n_estimators=223;, score=0.848 total time=  44.7s\n",
      "[CV 1/1] END ....max_depth=37, n_estimators=292;, score=0.851 total time=  59.8s\n",
      "[CV 1/1] END ....max_depth=37, n_estimators=383;, score=0.853 total time= 1.3min\n",
      "[CV 1/1] END ....max_depth=37, n_estimators=501;, score=0.857 total time= 1.7min\n"
     ]
    },
    {
     "name": "stderr",
     "output_type": "stream",
     "text": [
      "c:\\Python311\\Lib\\site-packages\\sklearn\\ensemble\\_forest.py:615: UserWarning: Some inputs do not have OOB scores. This probably means too few trees were used to compute any reliable OOB estimates.\n",
      "  warn(\n"
     ]
    },
    {
     "name": "stdout",
     "output_type": "stream",
     "text": [
      "[CV 1/1] END .....max_depth=50, n_estimators=19;, score=0.762 total time=   4.4s\n"
     ]
    },
    {
     "name": "stderr",
     "output_type": "stream",
     "text": [
      "c:\\Python311\\Lib\\site-packages\\sklearn\\ensemble\\_forest.py:615: UserWarning: Some inputs do not have OOB scores. This probably means too few trees were used to compute any reliable OOB estimates.\n",
      "  warn(\n"
     ]
    },
    {
     "name": "stdout",
     "output_type": "stream",
     "text": [
      "[CV 1/1] END .....max_depth=50, n_estimators=26;, score=0.787 total time=   6.2s\n",
      "[CV 1/1] END .....max_depth=50, n_estimators=34;, score=0.798 total time=   7.4s\n",
      "[CV 1/1] END .....max_depth=50, n_estimators=44;, score=0.804 total time=   9.4s\n",
      "[CV 1/1] END .....max_depth=50, n_estimators=58;, score=0.818 total time=  12.0s\n",
      "[CV 1/1] END .....max_depth=50, n_estimators=76;, score=0.827 total time=  16.2s\n",
      "[CV 1/1] END ....max_depth=50, n_estimators=100;, score=0.825 total time=  21.4s\n",
      "[CV 1/1] END ....max_depth=50, n_estimators=130;, score=0.839 total time=  27.6s\n",
      "[CV 1/1] END ....max_depth=50, n_estimators=171;, score=0.842 total time=  34.7s\n",
      "[CV 1/1] END ....max_depth=50, n_estimators=223;, score=0.849 total time=  45.1s\n",
      "[CV 1/1] END ....max_depth=50, n_estimators=292;, score=0.854 total time=  58.7s\n",
      "[CV 1/1] END ....max_depth=50, n_estimators=383;, score=0.857 total time= 1.3min\n",
      "[CV 1/1] END ....max_depth=50, n_estimators=501;, score=0.857 total time= 1.8min\n",
      "The best parameters are {'max_depth': 37, 'n_estimators': 501} with a score of 0.857\n"
     ]
    }
   ],
   "source": [
    "model = RandomForestClassifier(criterion=\"entropy\", n_jobs=-1, class_weight=\"balanced\", oob_score=roc_auc_score)\n",
    "\n",
    "X_cv = pd.concat([X_train, X_val])\n",
    "y_cv = pd.concat([y_train, y_val])\n",
    "cv_indexes = np.array([-1] * len(X_train) + [0] * len(X_val), dtype=np.int32)\n",
    "cv = PredefinedSplit(cv_indexes)\n",
    "\n",
    "n_estimators_range = np.logspace(1.3, 2.7, 13, dtype=np.int32)\n",
    "max_depth_range = np.logspace(0.2, 1.7, 13, dtype=np.int32)\n",
    "param_grid = dict(n_estimators=n_estimators_range, max_depth=max_depth_range)\n",
    "\n",
    "scorer = make_scorer(roc_auc_score, response_method=\"predict_proba\")\n",
    "\n",
    "grid = GridSearchCV(\n",
    "    model, param_grid=param_grid, cv=cv, verbose=3, scoring=scorer\n",
    ")\n",
    "grid.fit(X_cv, y_cv)\n",
    "\n",
    "print(\n",
    "    f\"The best parameters are {grid.best_params_} with a score of {grid.best_score_:0.3f}\"\n",
    ")"
   ]
  },
  {
   "cell_type": "markdown",
   "metadata": {},
   "source": [
    "Best: 'max_depth': 37, 'n_estimators': 501\n",
    "Suggested: max_depth = 28, estimators = 292"
   ]
  },
  {
   "cell_type": "code",
   "execution_count": 12,
   "metadata": {},
   "outputs": [
    {
     "data": {
      "application/vnd.jupyter.widget-view+json": {
       "model_id": "7e6894f200ea45f69acfaf78c65d9679",
       "version_major": 2,
       "version_minor": 0
      },
      "text/plain": [
       "  0%|          | 0/100 [00:00<?, ?it/s]"
      ]
     },
     "metadata": {},
     "output_type": "display_data"
    },
    {
     "name": "stdout",
     "output_type": "stream",
     "text": [
      "Mean AUC: 0.8548094396604536\n",
      "95% Confidence Interval: (0.854501503420314, 0.8551173759005933)\n"
     ]
    }
   ],
   "source": [
    "model = RandomForestClassifier(criterion=\"entropy\", n_jobs=-1, class_weight=\"balanced\", oob_score=roc_auc_score, max_depth=28, n_estimators=292)\n",
    "n_iterations = 100\n",
    "auc_scores = []\n",
    "\n",
    "for i in tqdm(range(n_iterations)):\n",
    "    model.fit(X_train, y_train)\n",
    "    y_pred = model.predict_proba(X_val)[:, 1]\n",
    "    \n",
    "    # Compute AUC for the resampled set\n",
    "    auc_scores.append(roc_auc_score(y_val, y_pred))\n",
    "\n",
    "# Calculate statistics\n",
    "mean_auc = np.mean(auc_scores)\n",
    "confidence_interval = st.t.interval(0.95, len(auc_scores)-1, loc=mean_auc, scale=st.sem(auc_scores))\n",
    "\n",
    "print(f\"Mean AUC: {mean_auc}\")\n",
    "print(f\"95% Confidence Interval: {confidence_interval}\")"
   ]
  },
  {
   "cell_type": "code",
   "execution_count": 15,
   "metadata": {},
   "outputs": [
    {
     "data": {
      "text/plain": [
       "array([0.0261106 , 0.03934453, 0.01193299, ..., 0.01369863, 0.0239726 ,\n",
       "       0.04744149])"
      ]
     },
     "execution_count": 15,
     "metadata": {},
     "output_type": "execute_result"
    }
   ],
   "source": [
    "y_pred"
   ]
  },
  {
   "cell_type": "code",
   "execution_count": 17,
   "metadata": {},
   "outputs": [],
   "source": [
    "df = pd.DataFrame()\n",
    "df[\"y_val\"] = y_val\n",
    "df[\"y_pred\"] = y_pred\n",
    "df.to_csv(\"./randfor_val_pred.csv\")"
   ]
  },
  {
   "cell_type": "code",
   "execution_count": null,
   "metadata": {},
   "outputs": [
    {
     "data": {
      "image/png": "[encoded data removed]",
      "text/plain": [
       "<Figure size 640x480 with 1 Axes>"
      ]
     },
     "metadata": {},
     "output_type": "display_data"
    }
   ],
   "source": [
    "fpr, tpr, _ = roc_curve(y_val,  y_pred)\n",
    "sns.lineplot(x=fpr, y=tpr)\n",
    "plt.show()"
   ]
  },
  {
   "cell_type": "markdown",
   "metadata": {},
   "source": [
    "Mean AUC: 0.8548094396604536\n",
    "\n",
    "95% Confidence Interval: (0.854501503420314, 0.8551173759005933)"
   ]
  },
  {
   "cell_type": "markdown",
   "metadata": {},
   "source": [
    "## Estimating model performance"
   ]
  },
  {
   "cell_type": "code",
   "execution_count": 26,
   "metadata": {},
   "outputs": [
    {
     "name": "stderr",
     "output_type": "stream",
     "text": [
      "c:\\Python311\\Lib\\site-packages\\sklearn\\feature_selection\\_univariate_selection.py:776: UserWarning: k=145306 is greater than n_features=127. All the features will be returned.\n",
      "  warnings.warn(\n"
     ]
    }
   ],
   "source": [
    "transform = StatisticalPreprocessing()\n",
    "\n",
    "train_data = transform.fit_transform(train_set, \"nbest\", 62)\n",
    "X_train, y_train = train_data.drop(columns=[\"ACTIVE\"]), train_data[\"ACTIVE\"]\n",
    "\n",
    "X_test, y_test = transform.transform(test_set.drop(columns=[\"ACTIVE\"])), test_set[\"ACTIVE\"]"
   ]
  },
  {
   "cell_type": "code",
   "execution_count": 27,
   "metadata": {},
   "outputs": [
    {
     "data": {
      "text/plain": [
       "Index(['TPSA', 'n_secamines', 'n_arorings', 'exact_weight', 'n_donors',\n",
       "       'n_amides', 'n_anilines', 'n_ethers', 'n_rotbonds', 'log_p',\n",
       "       'z_ecfp_61', 'n_teramines', 'n_acceptors', 'n_heavyatoms',\n",
       "       'n_sulfoanamids', 'z_ecfp_3', 'n_alkenes', 'n_atoms', 'n_halogens',\n",
       "       'z_ecfp_26', 'n_oxos', 'z_ecfp_1', 'z_ecfp_46', 'n_bonds', 'z_ecfp_60',\n",
       "       'z_ecfp_73', 'z_ecfp_25', 'n_carboxacids', 'z_ecfp_56', 'z_ecfp_68',\n",
       "       'z_ecfp_72', 'z_ecfp_29', 'n_nitriles', 'z_ecfp_57', 'z_ecfp_0',\n",
       "       'z_ecfp_44', 'z_ecfp_79', 'z_ecfp_18', 'z_ecfp_80', 'z_ecfp_6',\n",
       "       'z_ecfp_4', 'n_chloros', 'z_ecfp_39', 'z_ecfp_66', 'z_ecfp_65',\n",
       "       'z_ecfp_84', 'z_ecfp_55', 'z_ecfp_10', 'z_ecfp_11', 'z_ecfp_85',\n",
       "       'z_ecfp_87', 'z_ecfp_7', 'z_ecfp_88', 'z_ecfp_31', 'n_alihydroxyls',\n",
       "       'n_phenols', 'z_ecfp_33', 'z_ecfp_98', 'z_ecfp_99', 'z_ecfp_35',\n",
       "       'z_ecfp_74', 'z_ecfp_41'],\n",
       "      dtype='object')"
      ]
     },
     "execution_count": 27,
     "metadata": {},
     "output_type": "execute_result"
    }
   ],
   "source": [
    "X_train.columns"
   ]
  },
  {
   "cell_type": "code",
   "execution_count": 28,
   "metadata": {},
   "outputs": [
    {
     "data": {
      "application/vnd.jupyter.widget-view+json": {
       "model_id": "bb80076e2bc343bca1b8999535ad3ffb",
       "version_major": 2,
       "version_minor": 0
      },
      "text/plain": [
       "  0%|          | 0/100 [00:00<?, ?it/s]"
      ]
     },
     "metadata": {},
     "output_type": "display_data"
    },
    {
     "name": "stdout",
     "output_type": "stream",
     "text": [
      "Mean AUC: 0.8667878093964951\n",
      "95% Confidence Interval: (0.8665191942514195, 0.8670564245415707)\n"
     ]
    }
   ],
   "source": [
    "model = RandomForestClassifier(criterion=\"entropy\", n_jobs=-1, class_weight=\"balanced\", oob_score=roc_auc_score, max_depth=28, n_estimators=292)\n",
    "n_iterations = 100\n",
    "auc_scores = []\n",
    "\n",
    "for i in tqdm(range(n_iterations)):\n",
    "    model.fit(X_train, y_train)\n",
    "    y_pred = model.predict_proba(X_test)[:, 1]\n",
    "    \n",
    "    # Compute AUC for the resampled set\n",
    "    auc_scores.append(roc_auc_score(y_test, y_pred))\n",
    "\n",
    "# Calculate statistics\n",
    "mean_auc = np.mean(auc_scores)\n",
    "confidence_interval = st.t.interval(0.95, len(auc_scores)-1, loc=mean_auc, scale=st.sem(auc_scores))\n",
    "\n",
    "print(f\"Mean AUC: {mean_auc}\")\n",
    "print(f\"95% Confidence Interval: {confidence_interval}\")"
   ]
  },
  {
   "cell_type": "code",
   "execution_count": 31,
   "metadata": {},
   "outputs": [],
   "source": [
    "df = pd.DataFrame()\n",
    "df[\"y_val\"] = y_test\n",
    "df[\"y_pred\"] = y_pred\n",
    "df.to_csv(\"./randfor_test_pred.csv\")"
   ]
  },
  {
   "cell_type": "markdown",
   "metadata": {},
   "source": [
    "## Final inference"
   ]
  },
  {
   "cell_type": "code",
   "execution_count": 39,
   "metadata": {},
   "outputs": [
    {
     "name": "stderr",
     "output_type": "stream",
     "text": [
      "c:\\Python311\\Lib\\site-packages\\sklearn\\feature_selection\\_univariate_selection.py:776: UserWarning: k=207130 is greater than n_features=127. All the features will be returned.\n",
      "  warnings.warn(\n"
     ]
    },
    {
     "data": {
      "application/vnd.jupyter.widget-view+json": {
       "model_id": "ea763fccc7784ecf9dbfdbb0d7038b55",
       "version_major": 2,
       "version_minor": 0
      },
      "text/plain": [
       "Pandas Apply:   0%|          | 0/69646 [00:00<?, ?it/s]"
      ]
     },
     "metadata": {},
     "output_type": "display_data"
    },
    {
     "name": "stderr",
     "output_type": "stream",
     "text": [
      "[16:41:01] WARNING: not removing hydrogen atom without neighbors\n"
     ]
    },
    {
     "data": {
      "application/vnd.jupyter.widget-view+json": {
       "model_id": "d71f8abbc51e45b5b68fdd04c66a680f",
       "version_major": 2,
       "version_minor": 0
      },
      "text/plain": [
       "Pandas Apply:   0%|          | 0/69646 [00:00<?, ?it/s]"
      ]
     },
     "metadata": {},
     "output_type": "display_data"
    },
    {
     "data": {
      "application/vnd.jupyter.widget-view+json": {
       "model_id": "743afcc403fd47a3afb09a167348095f",
       "version_major": 2,
       "version_minor": 0
      },
      "text/plain": [
       "Pandas Apply:   0%|          | 0/69646 [00:00<?, ?it/s]"
      ]
     },
     "metadata": {},
     "output_type": "display_data"
    },
    {
     "data": {
      "application/vnd.jupyter.widget-view+json": {
       "model_id": "49825d4288db446f833f541f9e6c8a33",
       "version_major": 2,
       "version_minor": 0
      },
      "text/plain": [
       "Pandas Apply:   0%|          | 0/69646 [00:00<?, ?it/s]"
      ]
     },
     "metadata": {},
     "output_type": "display_data"
    },
    {
     "data": {
      "application/vnd.jupyter.widget-view+json": {
       "model_id": "b945463b0aec4a0e99f1dee475b7f703",
       "version_major": 2,
       "version_minor": 0
      },
      "text/plain": [
       "Pandas Apply:   0%|          | 0/69646 [00:00<?, ?it/s]"
      ]
     },
     "metadata": {},
     "output_type": "display_data"
    },
    {
     "data": {
      "application/vnd.jupyter.widget-view+json": {
       "model_id": "84b0a23f5a914488a15e5c7f986a0bdf",
       "version_major": 2,
       "version_minor": 0
      },
      "text/plain": [
       "Pandas Apply:   0%|          | 0/69646 [00:00<?, ?it/s]"
      ]
     },
     "metadata": {},
     "output_type": "display_data"
    },
    {
     "data": {
      "application/vnd.jupyter.widget-view+json": {
       "model_id": "59dd6d1d152a4a859c70511ac4a1d32c",
       "version_major": 2,
       "version_minor": 0
      },
      "text/plain": [
       "Pandas Apply:   0%|          | 0/69646 [00:00<?, ?it/s]"
      ]
     },
     "metadata": {},
     "output_type": "display_data"
    },
    {
     "data": {
      "application/vnd.jupyter.widget-view+json": {
       "model_id": "bd518c4655854d15bfbebc605bb8843d",
       "version_major": 2,
       "version_minor": 0
      },
      "text/plain": [
       "Pandas Apply:   0%|          | 0/69646 [00:00<?, ?it/s]"
      ]
     },
     "metadata": {},
     "output_type": "display_data"
    },
    {
     "data": {
      "application/vnd.jupyter.widget-view+json": {
       "model_id": "181b209cf22e4e90ae51fdb2115b2f72",
       "version_major": 2,
       "version_minor": 0
      },
      "text/plain": [
       "Pandas Apply:   0%|          | 0/69646 [00:00<?, ?it/s]"
      ]
     },
     "metadata": {},
     "output_type": "display_data"
    },
    {
     "data": {
      "application/vnd.jupyter.widget-view+json": {
       "model_id": "b3bb64bd01af496da81879c5ff8a0300",
       "version_major": 2,
       "version_minor": 0
      },
      "text/plain": [
       "Pandas Apply:   0%|          | 0/69646 [00:00<?, ?it/s]"
      ]
     },
     "metadata": {},
     "output_type": "display_data"
    },
    {
     "data": {
      "application/vnd.jupyter.widget-view+json": {
       "model_id": "f13e6b573daf4ff59da29195f09ecd68",
       "version_major": 2,
       "version_minor": 0
      },
      "text/plain": [
       "Pandas Apply:   0%|          | 0/69646 [00:00<?, ?it/s]"
      ]
     },
     "metadata": {},
     "output_type": "display_data"
    },
    {
     "data": {
      "application/vnd.jupyter.widget-view+json": {
       "model_id": "f1d503e2944a4d909cc97ebc0ac90a37",
       "version_major": 2,
       "version_minor": 0
      },
      "text/plain": [
       "Pandas Apply:   0%|          | 0/69646 [00:00<?, ?it/s]"
      ]
     },
     "metadata": {},
     "output_type": "display_data"
    },
    {
     "data": {
      "application/vnd.jupyter.widget-view+json": {
       "model_id": "6d8cd380a38c44748241bd6482b31fe2",
       "version_major": 2,
       "version_minor": 0
      },
      "text/plain": [
       "Pandas Apply:   0%|          | 0/69646 [00:00<?, ?it/s]"
      ]
     },
     "metadata": {},
     "output_type": "display_data"
    },
    {
     "data": {
      "application/vnd.jupyter.widget-view+json": {
       "model_id": "465cd5472ca74f3b86553b5ca5d90c4b",
       "version_major": 2,
       "version_minor": 0
      },
      "text/plain": [
       "Pandas Apply:   0%|          | 0/69646 [00:00<?, ?it/s]"
      ]
     },
     "metadata": {},
     "output_type": "display_data"
    },
    {
     "data": {
      "application/vnd.jupyter.widget-view+json": {
       "model_id": "dc96752373ad4d71962ee46bca5473cf",
       "version_major": 2,
       "version_minor": 0
      },
      "text/plain": [
       "Pandas Apply:   0%|          | 0/69646 [00:00<?, ?it/s]"
      ]
     },
     "metadata": {},
     "output_type": "display_data"
    },
    {
     "data": {
      "application/vnd.jupyter.widget-view+json": {
       "model_id": "4ba01f983a484a2799a62192874b973c",
       "version_major": 2,
       "version_minor": 0
      },
      "text/plain": [
       "Pandas Apply:   0%|          | 0/69646 [00:00<?, ?it/s]"
      ]
     },
     "metadata": {},
     "output_type": "display_data"
    },
    {
     "data": {
      "application/vnd.jupyter.widget-view+json": {
       "model_id": "26ef930175ff4b1085045d9a2b0b8567",
       "version_major": 2,
       "version_minor": 0
      },
      "text/plain": [
       "Pandas Apply:   0%|          | 0/69646 [00:00<?, ?it/s]"
      ]
     },
     "metadata": {},
     "output_type": "display_data"
    },
    {
     "data": {
      "application/vnd.jupyter.widget-view+json": {
       "model_id": "0f6f6bf216c1436eb7540f9ad0508f4e",
       "version_major": 2,
       "version_minor": 0
      },
      "text/plain": [
       "Pandas Apply:   0%|          | 0/69646 [00:00<?, ?it/s]"
      ]
     },
     "metadata": {},
     "output_type": "display_data"
    },
    {
     "data": {
      "application/vnd.jupyter.widget-view+json": {
       "model_id": "40cf3f4a0d724a00995d9ce4e74f1cfb",
       "version_major": 2,
       "version_minor": 0
      },
      "text/plain": [
       "Pandas Apply:   0%|          | 0/69646 [00:00<?, ?it/s]"
      ]
     },
     "metadata": {},
     "output_type": "display_data"
    },
    {
     "data": {
      "application/vnd.jupyter.widget-view+json": {
       "model_id": "09a95d7ab411477dae69d0db0553f6cb",
       "version_major": 2,
       "version_minor": 0
      },
      "text/plain": [
       "Pandas Apply:   0%|          | 0/69646 [00:00<?, ?it/s]"
      ]
     },
     "metadata": {},
     "output_type": "display_data"
    },
    {
     "data": {
      "application/vnd.jupyter.widget-view+json": {
       "model_id": "3d874e7401534cbab02a689257228cc1",
       "version_major": 2,
       "version_minor": 0
      },
      "text/plain": [
       "Pandas Apply:   0%|          | 0/69646 [00:00<?, ?it/s]"
      ]
     },
     "metadata": {},
     "output_type": "display_data"
    },
    {
     "data": {
      "application/vnd.jupyter.widget-view+json": {
       "model_id": "21b11294a3cd49c7bf4ae6bd755f843c",
       "version_major": 2,
       "version_minor": 0
      },
      "text/plain": [
       "Pandas Apply:   0%|          | 0/69646 [00:00<?, ?it/s]"
      ]
     },
     "metadata": {},
     "output_type": "display_data"
    },
    {
     "data": {
      "application/vnd.jupyter.widget-view+json": {
       "model_id": "9316d69f16c14d1ea98734d50ad4c64f",
       "version_major": 2,
       "version_minor": 0
      },
      "text/plain": [
       "Pandas Apply:   0%|          | 0/69646 [00:00<?, ?it/s]"
      ]
     },
     "metadata": {},
     "output_type": "display_data"
    },
    {
     "data": {
      "application/vnd.jupyter.widget-view+json": {
       "model_id": "9e1d6ba65cf142858b4d707ff784f391",
       "version_major": 2,
       "version_minor": 0
      },
      "text/plain": [
       "Pandas Apply:   0%|          | 0/69646 [00:00<?, ?it/s]"
      ]
     },
     "metadata": {},
     "output_type": "display_data"
    },
    {
     "data": {
      "application/vnd.jupyter.widget-view+json": {
       "model_id": "6304e0dfa5e842e6bc1653406676a88f",
       "version_major": 2,
       "version_minor": 0
      },
      "text/plain": [
       "Pandas Apply:   0%|          | 0/69646 [00:00<?, ?it/s]"
      ]
     },
     "metadata": {},
     "output_type": "display_data"
    },
    {
     "data": {
      "application/vnd.jupyter.widget-view+json": {
       "model_id": "c1880653c4c34d8280c1b41c0d897aa5",
       "version_major": 2,
       "version_minor": 0
      },
      "text/plain": [
       "Pandas Apply:   0%|          | 0/69646 [00:00<?, ?it/s]"
      ]
     },
     "metadata": {},
     "output_type": "display_data"
    },
    {
     "data": {
      "application/vnd.jupyter.widget-view+json": {
       "model_id": "863b3916dc294fafb037526d18b048d9",
       "version_major": 2,
       "version_minor": 0
      },
      "text/plain": [
       "Pandas Apply:   0%|          | 0/69646 [00:00<?, ?it/s]"
      ]
     },
     "metadata": {},
     "output_type": "display_data"
    },
    {
     "data": {
      "application/vnd.jupyter.widget-view+json": {
       "model_id": "e938ebf6dfb844b5a8fb7f2352d101d0",
       "version_major": 2,
       "version_minor": 0
      },
      "text/plain": [
       "Pandas Apply:   0%|          | 0/69646 [00:00<?, ?it/s]"
      ]
     },
     "metadata": {},
     "output_type": "display_data"
    },
    {
     "data": {
      "application/vnd.jupyter.widget-view+json": {
       "model_id": "661d9b13b4fa4b2db0bf5f28f45b2ffa",
       "version_major": 2,
       "version_minor": 0
      },
      "text/plain": [
       "Pandas Apply:   0%|          | 0/69646 [00:00<?, ?it/s]"
      ]
     },
     "metadata": {},
     "output_type": "display_data"
    },
    {
     "data": {
      "application/vnd.jupyter.widget-view+json": {
       "model_id": "dc028d611bd64f90afc758c664c35f4e",
       "version_major": 2,
       "version_minor": 0
      },
      "text/plain": [
       "Pandas Apply:   0%|          | 0/69646 [00:00<?, ?it/s]"
      ]
     },
     "metadata": {},
     "output_type": "display_data"
    }
   ],
   "source": [
    "from importlib import reload\n",
    "import preprocessing as pre\n",
    "\n",
    "reload(pre)\n",
    "\n",
    "test_set = pd.read_csv(\"../test_smiles.csv\")\n",
    "\n",
    "transform = pre.StatisticalPreprocessing()\n",
    "\n",
    "train_data = transform.fit_transform(full_train_set, \"nbest\", 62)\n",
    "X_train, y_train = train_data.drop(columns=[\"ACTIVE\"]), train_data[\"ACTIVE\"]\n",
    "\n",
    "X_test = transform.transform(test_set, expand=True)"
   ]
  },
  {
   "cell_type": "code",
   "execution_count": 41,
   "metadata": {},
   "outputs": [],
   "source": [
    "model = RandomForestClassifier(criterion=\"entropy\", n_jobs=-1, class_weight=\"balanced\", oob_score=roc_auc_score, max_depth=28, n_estimators=292)\n",
    "model.fit(X_train, y_train)\n",
    "y_pred = model.predict_proba(X_test)[:, 1]\n",
    "\n",
    "out = [0.8667878093964951] + list(y_pred.tolist())"
   ]
  },
  {
   "cell_type": "code",
   "execution_count": 42,
   "metadata": {},
   "outputs": [],
   "source": [
    "output_path = \"../5.txt\"\n",
    "with open(output_path, \"w\", encoding=\"utf-8\") as file:\n",
    "    for v in out:\n",
    "        file.write(f\"{v}\\n\")"
   ]
  },
  {
   "cell_type": "code",
   "execution_count": 43,
   "metadata": {},
   "outputs": [],
   "source": [
    "predictions_df = pd.read_csv(output_path, header=None)\n",
    "assert predictions_df.shape == (69646+1, 1)\n",
    "assert np.all((predictions_df.values >= 0) & (predictions_df.values <= 1))"
   ]
  }
 ],
 "metadata": {
  "kernelspec": {
   "display_name": "Python 3",
   "language": "python",
   "name": "python3"
  },
  "language_info": {
   "codemirror_mode": {
    "name": "ipython",
    "version": 3
   },
   "file_extension": ".py",
   "mimetype": "text/x-python",
   "name": "python",
   "nbconvert_exporter": "python",
   "pygments_lexer": "ipython3",
   "version": "3.11.5"
  }
 },
 "nbformat": 4,
 "nbformat_minor": 2
}
